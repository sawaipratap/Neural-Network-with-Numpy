{
 "cells": [
  {
   "cell_type": "code",
   "execution_count": null,
   "metadata": {},
   "outputs": [],
   "source": [
    "import numpy as np"
   ]
  },
  {
   "cell_type": "code",
   "execution_count": null,
   "metadata": {},
   "outputs": [],
   "source": [
    "def sigmoid(x):\n",
    "    return 1 / (1 + np.exp(-x))\n",
    "\n",
    "def sigmoid_derivative(x):\n",
    "    y = sigmoid(x)\n",
    "    return y * (1 - y)\n",
    "\n",
    "def MSE(y_pred, y_true):\n",
    "    return np.mean((y_true - y_pred) ** 2)"
   ]
  },
  {
   "cell_type": "markdown",
   "metadata": {},
   "source": [
    "Model Architecture"
   ]
  },
  {
   "cell_type": "code",
   "execution_count": null,
   "metadata": {},
   "outputs": [],
   "source": [
    "class Neural_Network:\n",
    "    def __init__(self):\n",
    "        self.w1 = np.random.normal()\n",
    "        self.w2 = np.random.normal()\n",
    "        self.w3 = np.random.normal()\n",
    "        self.w4 = np.random.normal()\n",
    "        self.w5 = np.random.normal()\n",
    "        self.w6 = np.random.normal()\n",
    "\n",
    "        self.b1 = np.random.normal()\n",
    "        self.b2 = np.random.normal()\n",
    "        self.b3 = np.random.normal()\n",
    "\n",
    "    def feedforward(self,x):\n",
    "        # x has to be a numpy array with 2 elements (Weight,Height)\n",
    "        h1 = sigmoid((x[0]*self.w1)+(x[1]*self.w2)+self.b1)\n",
    "        h2 = sigmoid((x[0]*self.w3)+(x[1]*self.w4)+self.b2)\n",
    "        o = sigmoid((h1*self.w5)+(h2*self.w6)+self.b3)\n",
    "        return o\n",
    "\n",
    "    def train(self,data,y_true_combined,eta=0.001,epochs=10000):\n",
    "    # data has to be a numpy array with (n x 2) elements. n is number of observations in data and 2 is Weight and Height for all n observations\n",
    "    # y_true_combined has to be a numpy array with n elements. Containing all the True Values of Y.\n",
    "\n",
    "\n",
    "        for epoch in range(epochs):\n",
    "            for x,Y in zip(data,y_true_combined):\n",
    "                h1_comb = (x[0]*self.w1)+(x[1]*self.w2)+self.b1\n",
    "                h1 = sigmoid(h1_comb)\n",
    "    \n",
    "                h2_comb = (x[0]*self.w3)+(x[1]*self.w4)+self.b2\n",
    "                h2 = sigmoid(h2_comb)\n",
    "    \n",
    "                o_comb = (h1*self.w5)+(h2*self.w6)+self.b3\n",
    "                o = sigmoid(o_comb)\n",
    "                Yhat = o\n",
    "                \n",
    "        # Calculating Derivatives for SGD\n",
    "                dL_dYhat = -2*(Y - Yhat)\n",
    "    \n",
    "                # Output Neuron\n",
    "                dYhat_dw5 = h1 * sigmoid_derivative(o_comb)\n",
    "                dYhat_dw6 = h2 * sigmoid_derivative(o_comb)\n",
    "                dYhat_db3 = sigmoid_derivative(o_comb)\n",
    "    \n",
    "                dYhat_dh1 = self.w5 * sigmoid_derivative(o_comb)\n",
    "                dYhat_dh2 = self.w6 * sigmoid_derivative(o_comb)\n",
    "    \n",
    "    \n",
    "                # H1 Neuron\n",
    "                dh1_dw1 = x[0] * sigmoid_derivative(h1_comb)\n",
    "                dh1_dw2 = x[1] * sigmoid_derivative(h1_comb)\n",
    "                dh1_db1 = sigmoid_derivative(h1_comb)\n",
    "    \n",
    "                # H2 Neuron\n",
    "                dh2_hw3 = x[0] * sigmoid_derivative(h2_comb)\n",
    "                dh2_hw4 = x[1] * sigmoid_derivative(h2_comb)\n",
    "                dh2_db2 = sigmoid_derivative(h2_comb)\n",
    "    \n",
    "        # Updating Weights and Bias Terms\n",
    "                # For H1 Neuron\n",
    "                self.w1 -= eta * dL_dYhat * dYhat_dh1 * dh1_dw1\n",
    "                self.w2 -= eta * dL_dYhat * dYhat_dh1 * dh1_dw2\n",
    "                self.b1 -= eta * dL_dYhat * dYhat_dh1 * dh1_db1\n",
    "                \n",
    "                # For H2 Neuron\n",
    "                self.w3 -= eta * dL_dYhat * dYhat_dh2 * dh2_hw3\n",
    "                self.w4 -= eta * dL_dYhat * dYhat_dh2 * dh2_hw4\n",
    "                self.b2 -= eta * dL_dYhat * dYhat_dh2 * dh2_db2\n",
    "    \n",
    "                # For O Neuron\n",
    "                self.w5 -= eta * dL_dYhat * dYhat_dw5\n",
    "                self.w6 -= eta * dL_dYhat * dYhat_dw6\n",
    "                self.b3 -= eta * dL_dYhat * dYhat_db3\n",
    "            \n",
    "            if epoch % 100 == 0:\n",
    "                Yhat = np.apply_along_axis(self.feedforward, 1, data)\n",
    "                loss = MSE(y_true_combined, Yhat)\n",
    "                print(f'Epoch {epoch}, Loss: {loss}')\n",
    "\n",
    "    "
   ]
  },
  {
   "cell_type": "markdown",
   "metadata": {},
   "source": [
    "Data Preperation"
   ]
  },
  {
   "cell_type": "code",
   "execution_count": null,
   "metadata": {},
   "outputs": [],
   "source": [
    "data = np.array([[3,4],\n",
    "                [7,3],\n",
    "                [923,326],\n",
    "                [73,678],\n",
    "                [78,65],\n",
    "                [64738,678]])\n",
    "\n",
    "Y = np.array([1,1,0,0,0,1])"
   ]
  },
  {
   "cell_type": "markdown",
   "metadata": {},
   "source": [
    "Model Initialization"
   ]
  },
  {
   "cell_type": "code",
   "execution_count": null,
   "metadata": {},
   "outputs": [],
   "source": [
    "model = Neural_Network()"
   ]
  },
  {
   "cell_type": "code",
   "execution_count": null,
   "metadata": {},
   "outputs": [],
   "source": [
    "model.train(data,Y)"
   ]
  },
  {
   "cell_type": "code",
   "execution_count": null,
   "metadata": {},
   "outputs": [],
   "source": []
  }
 ],
 "metadata": {
  "kernelspec": {
   "display_name": ".venv",
   "language": "python",
   "name": "python3"
  },
  "language_info": {
   "codemirror_mode": {
    "name": "ipython",
    "version": 3
   },
   "file_extension": ".py",
   "mimetype": "text/x-python",
   "name": "python",
   "nbconvert_exporter": "python",
   "pygments_lexer": "ipython3",
   "version": "3.13.1"
  }
 },
 "nbformat": 4,
 "nbformat_minor": 4
}
